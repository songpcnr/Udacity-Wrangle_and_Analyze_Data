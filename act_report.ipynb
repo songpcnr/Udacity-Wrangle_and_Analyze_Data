{
 "cells": [
  {
   "cell_type": "markdown",
   "metadata": {},
   "source": [
    "# Analysis and Visualization of WeRateDogs Twitter data:"
   ]
  },
  {
   "cell_type": "markdown",
   "metadata": {},
   "source": [
    "## There are 3 insights that the author found after wrangling WeRateDogs Twitter data:"
   ]
  },
  {
   "cell_type": "markdown",
   "metadata": {},
   "source": [
    "### Insight 1: Findings about dogs' ratings"
   ]
  },
  {
   "cell_type": "markdown",
   "metadata": {},
   "source": [
    "<b>Main findings that the author got from dogs' ratings:</b>\n",
    "1. Dog's ratings ranged from 0 to 1.4 except the dog with the highest rating is also an outlier which has rating of 177.60\n",
    "2. The dog with the highest rating is named 'Atticus' which has the number of retweet and favorite counts of 2,772 and 5,569 respectively. However, all 3 image prediction algorithms cannot correctly identify Atticus's dog breed."
   ]
  },
  {
   "cell_type": "markdown",
   "metadata": {},
   "source": [
    "### Insight 2: Findings about dogs' stage types"
   ]
  },
  {
   "cell_type": "markdown",
   "metadata": {},
   "source": [
    "<b>Main findings that the author got from dogs' stage type:</b>\n",
    "1. Of all 2,116 cleaned data records only 356 records provide dog stage in Twitter text which is 16.82%. \n",
    "2. The dog stage 'Pupper' has the highest dog stage count (242), followed by doggo (81), puppo (29) and floofer (4) respectively."
   ]
  },
  {
   "cell_type": "markdown",
   "metadata": {},
   "source": [
    "<b>Below are a bar graph of dogs' stage types:</b>"
   ]
  },
  {
   "cell_type": "markdown",
   "metadata": {},
   "source": [
    "![](image.png)"
   ]
  },
  {
   "cell_type": "markdown",
   "metadata": {},
   "source": [
    "<img src=\"dog_stage.png\">"
   ]
  },
  {
   "cell_type": "markdown",
   "metadata": {},
   "source": [
    "### Insight 3: Findings about retweet and favorite counts"
   ]
  },
  {
   "cell_type": "markdown",
   "metadata": {},
   "source": [
    "<b>Main findings that the author got from retweet and favorite counts:</b>\n",
    "1. The dogs that have the highest favorite and retweet counts both have the same ratings of 1.3 and do not have a name\n",
    "2. The dog that got the higest favorite counts has the media format presented as an image while the other has the media format presented as a video.\n",
    "3. Information about the dog that got the higest favorite counts:\n",
    "    - Dog stage: puppo\n",
    "    - Dog's breed first prediction for the image (which also labeled as 'True'): Lakeland Terrier\n",
    "    - Favorite counts received: 132,810\n",
    "4. Information about the dog that got the higest retweet counts: \n",
    "\n",
    "    **Note that while the media is a video the algorithm took a snapshot of a video and make a prediction of a snapshot\n",
    "    - Dog stage: doggo\n",
    "    - Dog's breed first prediction for the image (which also labeled as 'True'): Labrador Retriever\n",
    "    - Retweet counts received: 79,515"
   ]
  }
 ],
 "metadata": {
  "kernelspec": {
   "display_name": "Python 3",
   "language": "python",
   "name": "python3"
  },
  "language_info": {
   "codemirror_mode": {
    "name": "ipython",
    "version": 3
   },
   "file_extension": ".py",
   "mimetype": "text/x-python",
   "name": "python",
   "nbconvert_exporter": "python",
   "pygments_lexer": "ipython3",
   "version": "3.6.3"
  }
 },
 "nbformat": 4,
 "nbformat_minor": 2
}
